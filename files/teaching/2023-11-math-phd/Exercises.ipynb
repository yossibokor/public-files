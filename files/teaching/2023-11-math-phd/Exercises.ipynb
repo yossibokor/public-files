{
 "cells": [
  {
   "cell_type": "markdown",
   "id": "9e6bfc3c-7064-4ff9-8e9e-0c5bf5458cf8",
   "metadata": {},
   "source": [
    "# PhD Course TDA exercises\n",
    "This Jupyter notebook contains exercises for PhD courses at Aalborg University.\n",
    "\n",
    "Anything done in this package should work on both macOS and Linux machines, there are known issues with a few on the packages and Windows. \n",
    "\n",
    "&copy; 2023 Yossi Bokor Bleile, Aalborg University"
   ]
  },
  {
   "cell_type": "markdown",
   "id": "681ad8da-e8c6-4ad5-a0bd-546cf69ecc18",
   "metadata": {},
   "source": [
    "## Imports and set up for reproducability"
   ]
  },
  {
   "cell_type": "code",
   "execution_count": 1,
   "id": "7771ba62-7995-439d-bc69-096c00c2c51f",
   "metadata": {},
   "outputs": [],
   "source": [
    "import sys\n",
    "sys.path.append(\"/\"+sys.path[0].split(\"/\")[1]+\"/\"+sys.path[0].split(\"/\")[2]+\"/\"+\"dionysus/build/bindings/python\")\n",
    "import pandas\n",
    "import numpy\n",
    "import plotly.express as px\n",
    "import plotly.io as pio\n",
    "import dionysus\n",
    "import gudhi.hera\n",
    "import random\n",
    "import ripser\n",
    "import sklearn.datasets\n",
    "import math\n",
    "\n",
    "pio.renderers.default = 'notebook' #can be changed to 'notebook' but has compatibility issues with some environments\n",
    "\n",
    "random.seed(15) #set seed for consistency"
   ]
  },
  {
   "cell_type": "markdown",
   "id": "80735e83-0f17-40da-aeff-e77db4d9754f",
   "metadata": {},
   "source": [
    "## Examples \n",
    "Here we are using dionysus to generate a Rips complex on a set of points, and then obtain the persistent homology etc."
   ]
  },
  {
   "cell_type": "markdown",
   "id": "81866991-ba8c-4e77-ab27-b18768e2f9d8",
   "metadata": {},
   "source": [
    "### Sample 1"
   ]
  },
  {
   "cell_type": "code",
   "execution_count": 2,
   "id": "9fe23491-fa56-4d7b-b76c-eac26c513ce1",
   "metadata": {},
   "outputs": [],
   "source": [
    "pc_1 = pandas.DataFrame()\n",
    "sample_1 =  sklearn.datasets.make_circles(n_samples=100, factor=0.3, noise=0.05, random_state=0)\n",
    "pc_1[\"x\"] = sample_1[0][:,0]\n",
    "pc_1[\"y\"] = sample_1[0][:,1]\n",
    "pc_1[\"c\"] = [\"c\"+str(i) for i in sample_1[1]]"
   ]
  },
  {
   "cell_type": "code",
   "execution_count": null,
   "id": "ed82b86b-06d4-4b33-b70f-a52dcf6baacb",
   "metadata": {},
   "outputs": [],
   "source": [
    "fig = px.scatter(pc_1, x='x', y='y', title=\"Sample 1\")\n",
    "fig.show()"
   ]
  },
  {
   "cell_type": "code",
   "execution_count": 4,
   "id": "bf123699-6d4b-4ce3-833c-ecaa7a60d9ba",
   "metadata": {},
   "outputs": [],
   "source": [
    "f_1 = dionysus.fill_rips(sample_1[0], 2, 0.3) #generate Rips complex on the points up to dimension and up to radius\n",
    "m_1 = dionysus.homology_persistence(f_1) #get the persistent homology\n",
    "dgms_1 = dionysus.init_diagrams(m_1, f_1) #generate the diagrams using dionysus"
   ]
  },
  {
   "cell_type": "code",
   "execution_count": 5,
   "id": "07497118-cb2d-4d9a-9aef-1a93051062cd",
   "metadata": {
    "scrolled": true
   },
   "outputs": [],
   "source": [
    "dgms_1_df = pandas.DataFrame()\n",
    "birth = []\n",
    "death = []\n",
    "dim = []\n",
    "for i, dgm in enumerate(dgms_1[0:2]):\n",
    "    for pt in dgm:\n",
    "        birth.append(pt.birth)\n",
    "        death.append(pt.death)\n",
    "        dim.append(int(i))\n",
    "\n",
    "\n",
    "\n",
    "dgms_1_df[\"birth\"] = birth\n",
    "dgms_1_df[\"death\"] = death\n",
    "dgms_1_df[\"dim\"] = dim\n",
    "dgms_1_plot_df = pandas.DataFrame()\n",
    "\n",
    "#split into essential and non-essential classes, so that we can plot the essential ones as well\n",
    "\n",
    "pts = numpy.column_stack([birth, death, dim])\n",
    "u_vals = numpy.unique(pts, axis=0, return_counts = True)\n",
    "pts = numpy.column_stack([u_vals[0], u_vals[1]])\n",
    "dim_plot = []\n",
    "death_plot = []\n",
    "max_death = max([d for d in pts[:,1] if not d == math.inf])\n",
    "for i in range(pts.shape[0]):\n",
    "    if pts[i,1] == math.inf:\n",
    "        pts[i,1] = max_death*1.5\n",
    "        dim_plot.append(str(pts[i,2])[0]+\" essential\")\n",
    "    else:\n",
    "        dim_plot.append(str(pts[i,2])[0])\n",
    "\n",
    "\n",
    "dgms_1_plot_df[\"birth\"] = pts[:,0]\n",
    "dgms_1_plot_df[\"death\"] = pts[:,1]\n",
    "dgms_1_plot_df[\"dim\"] = dim_plot\n",
    "dgms_1_plot_df[\"mult\"] = pts[:,3]"
   ]
  },
  {
   "cell_type": "code",
   "execution_count": null,
   "id": "30c2d812-d092-4a80-af0e-7c21a27b41e5",
   "metadata": {},
   "outputs": [],
   "source": [
    "fig = px.scatter(dgms_1_plot_df, x='birth', y='death', color='dim', title=\"Sample 1 persistence diagrams\", hover_data=[\"mult\"])\n",
    "fig.show()"
   ]
  },
  {
   "cell_type": "markdown",
   "id": "2d53b8a1-3571-4f95-8020-66e3fd80146c",
   "metadata": {},
   "source": [
    "### Sample 2"
   ]
  },
  {
   "cell_type": "code",
   "execution_count": 7,
   "id": "936730c2-f1f9-4967-b3fc-d5be39cc28e3",
   "metadata": {},
   "outputs": [],
   "source": [
    "pc_2 =pandas.DataFrame()\n",
    "sample_2 =  sklearn.datasets.make_circles(n_samples=100, factor=0.6, noise=0.1, random_state=0)\n",
    "pc_2[\"x\"] = sample_2[0][:,0]\n",
    "pc_2[\"y\"] = sample_2[0][:,1]\n",
    "pc_2[\"c\"] = [\"c\"+str(i) for i in sample_2[1]]"
   ]
  },
  {
   "cell_type": "code",
   "execution_count": null,
   "id": "e5e2a49f-4c8b-44dd-a80e-b2be290850ae",
   "metadata": {},
   "outputs": [],
   "source": [
    "fig = px.scatter(pc_2, x='x', y='y', title=\"Sample 2\")\n",
    "fig.show()"
   ]
  },
  {
   "cell_type": "code",
   "execution_count": 9,
   "id": "2f63ab37-42d0-4dd6-899f-fcc90572ac92",
   "metadata": {},
   "outputs": [],
   "source": [
    "f_2 = dionysus.fill_rips(sample_2[0], 2, 1) #generate Rips complex on the points up to dimension and radius\n",
    "m_2 = dionysus.homology_persistence(f_2)\n",
    "dgms_2 = dionysus.init_diagrams(m_2, f_2)\n"
   ]
  },
  {
   "cell_type": "code",
   "execution_count": 10,
   "id": "347aa90e-5779-45e0-9800-489fe7f82ebb",
   "metadata": {},
   "outputs": [],
   "source": [
    "dgms_2_df = pandas.DataFrame()\n",
    "birth = []\n",
    "death = []\n",
    "dim = []\n",
    "for i, dgm in enumerate(dgms_2[0:2]):\n",
    "    for pt in dgm:\n",
    "        birth.append(pt.birth)\n",
    "        death.append(pt.death)\n",
    "        dim.append(int(i))\n",
    "\n",
    "dgms_2_df[\"birth\"] = birth\n",
    "dgms_2_df[\"death\"] = death\n",
    "dgms_2_df[\"dim\"] = dim\n",
    "\n",
    "\n",
    "\n",
    "#split into essential and non-essential classes, so that we can plot the essential ones as well\n",
    "dgms_2_plot_df = pandas.DataFrame()\n",
    "\n",
    "pts = numpy.column_stack([birth, death, dim])\n",
    "u_vals = numpy.unique(pts, axis=0, return_counts = True)\n",
    "pts = numpy.column_stack([u_vals[0], u_vals[1]])\n",
    "dim_plot = []\n",
    "death_plot = []\n",
    "max_death = max([d for d in pts[:,1] if not d == math.inf])\n",
    "for i in range(pts.shape[0]):\n",
    "    if pts[i,1] == math.inf:\n",
    "        pts[i,1] = max_death*1.5\n",
    "        dim_plot.append(str(pts[i,2])[0]+\" essential\")\n",
    "    else:\n",
    "        dim_plot.append(str(pts[i,2])[0])\n",
    "\n",
    "\n",
    "dgms_2_plot_df[\"birth\"] = pts[:,0]\n",
    "dgms_2_plot_df[\"death\"] = pts[:,1]\n",
    "dgms_2_plot_df[\"dim\"] = dim_plot\n",
    "dgms_2_plot_df[\"mult\"] = pts[:,3]\n",
    "\n"
   ]
  },
  {
   "cell_type": "code",
   "execution_count": null,
   "id": "cddd237d-53cf-4ebc-9b84-94c243a73ff1",
   "metadata": {},
   "outputs": [],
   "source": [
    "fig = px.scatter(dgms_2_plot_df, x='birth', y='death', color='dim', title=\"Sample 2 persistence diagrams\", hover_data=[\"mult\"])\n",
    "fig.show()"
   ]
  },
  {
   "cell_type": "markdown",
   "id": "bb3644c0-52eb-4c20-b8ac-392ff7645801",
   "metadata": {},
   "source": [
    "### Sample 3"
   ]
  },
  {
   "cell_type": "code",
   "execution_count": 12,
   "id": "b82a4208-1fb9-4ad8-b695-fb737cce72d8",
   "metadata": {},
   "outputs": [],
   "source": [
    "pc_3 = pandas.DataFrame()\n",
    "sample_3 =  sklearn.datasets.make_circles(n_samples=100, factor=0.1, noise=0.1, random_state=0)\n",
    "pc_3[\"x\"] = sample_3[0][:,0]\n",
    "pc_3[\"y\"] = sample_3[0][:,1]\n",
    "pc_3[\"c\"] = [\"c\"+str(i) for i in sample_3[1]]"
   ]
  },
  {
   "cell_type": "code",
   "execution_count": null,
   "id": "c72e543c-fb0d-47d0-b594-5c2406265faa",
   "metadata": {},
   "outputs": [],
   "source": [
    "fig = px.scatter(pc_2, x='x', y='y', title=\"Sample 3\")\n",
    "fig.show()"
   ]
  },
  {
   "cell_type": "code",
   "execution_count": 14,
   "id": "2731a5b6-2d09-40c8-bbca-f256537634f2",
   "metadata": {},
   "outputs": [],
   "source": [
    "f_3 = dionysus.fill_rips(sample_3[0], 2, 1.5) #generate Rips complex on the points up to dimension and radius\n",
    "m_3 = dionysus.homology_persistence(f_3)\n",
    "dgms_3 = dionysus.init_diagrams(m_3, f_3)\n"
   ]
  },
  {
   "cell_type": "code",
   "execution_count": 15,
   "id": "87a9fe10-1443-40af-b74c-56c2f593e683",
   "metadata": {},
   "outputs": [],
   "source": [
    "dgms_3_df = pandas.DataFrame()\n",
    "birth = []\n",
    "death = []\n",
    "dim = []\n",
    "for i, dgm in enumerate(dgms_3[0:2]):\n",
    "    for pt in dgm:\n",
    "        birth.append(pt.birth)\n",
    "        death.append(pt.death)\n",
    "        dim.append(int(i))\n",
    "\n",
    "\n",
    "\n",
    "dgms_3_df[\"birth\"] = birth\n",
    "dgms_3_df[\"death\"] = death\n",
    "dgms_3_df[\"dim\"] = dim\n",
    "\n",
    "\n",
    "\n",
    "#split into essential and non-essential classes, so that we can plot the essential ones as well\n",
    "dgms_3_plot_df = pandas.DataFrame()\n",
    "\n",
    "pts = numpy.column_stack([birth, death, dim])\n",
    "u_vals = numpy.unique(pts, axis=0, return_counts = True)\n",
    "pts = numpy.column_stack([u_vals[0], u_vals[1]])\n",
    "dim_plot = []\n",
    "death_plot = []\n",
    "max_death = max([d for d in pts[:,1] if not d == math.inf])\n",
    "for i in range(pts.shape[0]):\n",
    "    if pts[i,1] == math.inf:\n",
    "        pts[i,1] = max_death*1.5\n",
    "        dim_plot.append(str(pts[i,2])[0]+\" essential\")\n",
    "    else:\n",
    "        dim_plot.append(str(pts[i,2])[0])\n",
    "\n",
    "\n",
    "dgms_3_plot_df[\"birth\"] = pts[:,0]\n",
    "dgms_3_plot_df[\"death\"] = pts[:,1]\n",
    "dgms_3_plot_df[\"dim\"] = dim_plot\n",
    "dgms_3_plot_df[\"mult\"] = pts[:,3]"
   ]
  },
  {
   "cell_type": "code",
   "execution_count": null,
   "id": "e9349e86-c237-4609-9921-7dc4247c5716",
   "metadata": {},
   "outputs": [],
   "source": [
    "fig = px.scatter(dgms_3_plot_df, x='birth', y='death', color='dim', title=\"Sample 3 persistence diagrams\", hover_data=[\"mult\"])\n",
    "fig.show()"
   ]
  },
  {
   "cell_type": "markdown",
   "id": "1077e8e8-a3eb-4393-b589-af3e28b1b930",
   "metadata": {},
   "source": [
    "### Distances between diagrams\n",
    "We can calculate the Wasserstein distance between the persistence diagrams of Sample 1 and Sample 2 using a variety of commands."
   ]
  },
  {
   "cell_type": "code",
   "execution_count": 17,
   "id": "5c7f59aa-0be3-4627-8132-dbdd7a14dea5",
   "metadata": {},
   "outputs": [
    {
     "name": "stdout",
     "output_type": "stream",
     "text": [
      "Using dionysus\n",
      "Distance between the diagrams in dimension 0 is: inf  and in dimension 1 is: 0.16173028945922852\n"
     ]
    }
   ],
   "source": [
    "print(\"Using dionysus\")\n",
    "print(\"Distance between the diagrams in dimension 0 is:\", \n",
    "      dionysus.wasserstein_distance(dgms_1[0], dgms_3[0], q=2),\n",
    "      \" and in dimension 1 is:\", \n",
    "      dionysus.wasserstein_distance(dgms_2[1], dgms_3[1], q=2))\n"
   ]
  },
  {
   "cell_type": "code",
   "execution_count": 18,
   "id": "31d7a9f3-64bf-4eae-90a3-1724ec676f40",
   "metadata": {},
   "outputs": [
    {
     "name": "stdout",
     "output_type": "stream",
     "text": [
      "Using hera via gudhi\n",
      "Distance between the diagrams in dimension 0 is: 0.4826823941781746 and in dimension 1 is: 0.21681841821565664\n"
     ]
    }
   ],
   "source": [
    "print(\"Using hera via gudhi\")\n",
    "print(\"Distance between the diagrams in dimension 0 is:\",\n",
    "      gudhi.hera.wasserstein_distance(dgms_2_df.loc[(dgms_2_df[\"dim\"] == 0)][[\"birth\", \"death\"]].to_numpy(), \n",
    "                                      dgms_3_df.loc[(dgms_3_df[\"dim\"] == 0)][[\"birth\", \"death\"]].to_numpy(), 2, 2, 0.1),\n",
    "      \"and in dimension 1 is:\", \n",
    "      gudhi.hera.wasserstein_distance(dgms_2_df.loc[(dgms_2_df[\"dim\"] == 1)][[\"birth\", \"death\"]].to_numpy(), \n",
    "                                      dgms_3_df.loc[(dgms_3_df[\"dim\"] == 1)][[\"birth\", \"death\"]].to_numpy(), 2, 2, 0.1)\n",
    "     )\n"
   ]
  },
  {
   "cell_type": "markdown",
   "id": "0b6a9842-d964-4315-a46a-055bb38c8dab",
   "metadata": {},
   "source": [
    "## Exercises"
   ]
  },
  {
   "cell_type": "markdown",
   "id": "8f002169-35ce-44ef-8682-58c48e459135",
   "metadata": {},
   "source": [
    "### Exercise 1:\n",
    "\n",
    "Calcuate the Wasserstein distances between all possible pairs of diagrams."
   ]
  },
  {
   "cell_type": "markdown",
   "id": "4eea7470-ce10-4745-8be4-295aa833ec8b",
   "metadata": {},
   "source": [
    "### Exercise 2:\n",
    "\n",
    "A) Using the same `sample_1`, `sample_2`, and `sample_3`, explore what happens when you change the dimension parameter\n",
    "```dionysus.fill_rips```. \n",
    "\n",
    "B) What happens to the persistence diagrams?\n",
    "\n",
    "C) How does this affect the Wasserstein distances?"
   ]
  },
  {
   "cell_type": "markdown",
   "id": "74e720ff-69ae-4975-a569-8d5494cad071",
   "metadata": {},
   "source": [
    "### Exercise 3:\n",
    "\n",
    "A) Using the same `sample_1`, `sample_2`, and `sample_3`, explore what happens when you change the radius parameter\n",
    "```dionysus.fill_rips```. \n",
    "\n",
    "B) What happens to the persistence diagrams?\n",
    "\n",
    "C) How does this affect the Wasserstein distances?"
   ]
  },
  {
   "cell_type": "markdown",
   "id": "5e7cbdc1-d844-43bb-bb52-a3504a3cb209",
   "metadata": {},
   "source": [
    "## Rank functions and accumulated persistence functions\n",
    "\n",
    "The next cell defines some functions to calculate the rank function and APF of a persistence diagram, as well as weighted inner products on the rank functions."
   ]
  },
  {
   "cell_type": "code",
   "execution_count": 19,
   "id": "13dca810-8233-4a15-bc94-dbd99810b40c",
   "metadata": {},
   "outputs": [],
   "source": [
    "def rotated_rescaled_persistence_diagram(persistence_diagram):\n",
    "    if len(persistence_diagram) == 0:\n",
    "        mean_age = [0]\n",
    "        lifetime = [0]\n",
    "    else:\n",
    "        mean_age = []\n",
    "        lifetime = []\n",
    "        for i in range(len(persistence_diagram)):\n",
    "            mean_age.append((persistence_diagram[i][0]+persistence_diagram[i][1])/2)\n",
    "            lifetime.append(abs(persistence_diagram[i][1]-persistence_diagram[i][0]))\n",
    "    rrpd = numpy.transpose(numpy.vstack([mean_age, lifetime]))\n",
    "    rrpd = rrpd[rrpd[:,0].argsort()]\n",
    "    return rrpd\n",
    "\n",
    "def apf(persistence_diagram):\n",
    "    rrpd = rotated_rescaled_persistence_diagram(persistence_diagram)\n",
    "    life_sum = 0\n",
    "    if len(rrpd) != 0:\n",
    "        mean = [rrpd[0][0]-0.5*abs(rrpd[0][0])]\n",
    "        sum = [0]\n",
    "        for i in range(len(rrpd)):\n",
    "            if rrpd[i][0] == mean[-1]:\n",
    "                life_sum += rrpd[i][1]\n",
    "                sum[-1] += life_sum\n",
    "            else:\n",
    "                mean.append(rrpd[i][0])\n",
    "                sum.append(life_sum)\n",
    "                life_sum += rrpd[i][1]\n",
    "                mean.append(rrpd[i][0])\n",
    "                sum.append(life_sum)\n",
    "        mean.append(mean[-1]+0.5*abs(mean[-1]))\n",
    "        sum.append(life_sum)  \n",
    "    else:\n",
    "        mean = [0,0]\n",
    "        sum = [0,0]\n",
    "    apf = pandas.DataFrame()\n",
    "    apf[\"mean\"] = mean\n",
    "    apf[\"sum\"] =  sum\n",
    "    return apf\n",
    "   \n",
    "    \n",
    "def rank_function(persistence_diagram, x_grid, y_grid):\n",
    "    ranks = numpy.zeros((len(x_grid), len(y_grid)))\n",
    "    rank = numpy.zeros((len(x_grid), len(y_grid)))\n",
    "    assert len(x_grid) == len(y_grid), \"Using a grid which is not square.\"\n",
    "    n_g = len(x_grid)\n",
    "    for i in range(len(persistence_diagram)):\n",
    "        x_i = numpy.argmax(x_grid>=persistence_diagram[i][0])\n",
    "        y_i = numpy.argmax(y_grid<=persistence_diagram[i][1])\n",
    "        for j in range(x_i,n_g-y_i):\n",
    "            for k in range(j, n_g-y_i):\n",
    "                ranks[n_g-k-1,j]+=1\n",
    "    return ranks\n",
    "\n",
    "\n",
    "def weighted_inner_product(rank1, rank2, weights):\n",
    "    return sum(sum((rank1*rank2)*weights))\n",
    "\n",
    "def weighted_inner_product_matrix_rank(ranks, weights):\n",
    "    wips = numpy.zeros((len(ranks),len(ranks)))\n",
    "    avg_rk = numpy.zeros(ranks[0].shape)\n",
    "    for i in range(len(ranks)):\n",
    "        avg_rk += ranks[i]\n",
    "    for i in range(len(ranks)):\n",
    "        for j in range(i,len(ranks)):\n",
    "            dist = weighted_inner_product(ranks[i]-avg_rk, ranks[j]-avg_rk, weights)\n",
    "            wips[i,j] = dist\n",
    "            wips[j,i] = dist\n",
    "    return wips"
   ]
  },
  {
   "cell_type": "markdown",
   "id": "380f7543-26d2-4b24-95b2-e65982602252",
   "metadata": {},
   "source": [
    "Calculate and display the APF of a diagram"
   ]
  },
  {
   "cell_type": "code",
   "execution_count": null,
   "id": "93943e86-3f5f-4a0a-bea8-6ab7b3ad849e",
   "metadata": {},
   "outputs": [],
   "source": [
    "apf_1_df = apf(dgms_1_df.loc[(dgms_1_df[\"dim\"] == 0)][[\"birth\", \"death\"]].to_numpy())\n",
    "fig = px.line(apf_1_df, x='mean', y='sum', title=\"Sample 1 APF dimension 0\")\n",
    "fig.show()"
   ]
  },
  {
   "cell_type": "markdown",
   "id": "c824d351-d27c-40a8-b868-3d0b0dc72e97",
   "metadata": {},
   "source": [
    "Calculate and display the rank function of a diagram"
   ]
  },
  {
   "cell_type": "code",
   "execution_count": null,
   "id": "baa8b31b-64e0-4cf0-b459-875babae88da",
   "metadata": {},
   "outputs": [],
   "source": [
    "x_grid = numpy.linspace(0,0.5,100)\n",
    "y_grid = numpy.linspace(0.5,0,100)\n",
    "\n",
    "rank_1 = rank_function(dgms_1_df.loc[(dgms_1_df[\"dim\"] == 0)][[\"birth\", \"death\"]].to_numpy(), x_grid, y_grid)\n",
    "px.imshow(rank_1, title=\"Sample 1 rank function dimension 0\")\n"
   ]
  },
  {
   "cell_type": "markdown",
   "id": "64c77e3f-0bfd-4633-818c-3f940a0d900c",
   "metadata": {},
   "source": [
    "Find weighted inner product between two diagrams"
   ]
  },
  {
   "cell_type": "code",
   "execution_count": 22,
   "id": "b1afecf0-a0cc-47b3-849d-9ce1ad0c343a",
   "metadata": {},
   "outputs": [],
   "source": [
    "rank_2 = rank_function(dgms_2_df.loc[(dgms_2_df[\"dim\"] == 0)][[\"birth\", \"death\"]].to_numpy(), x_grid, y_grid)\n"
   ]
  },
  {
   "cell_type": "code",
   "execution_count": null,
   "id": "aa5a638e-3792-40e4-b5ae-1f471c757c28",
   "metadata": {},
   "outputs": [],
   "source": [
    "weights = numpy.ones((len(x_grid), len(y_grid)))\n",
    "weighted_inner_product(rank_1, rank_2, weights)"
   ]
  },
  {
   "cell_type": "markdown",
   "id": "c037445b-0abd-4fa0-a151-97e28399cdbc",
   "metadata": {},
   "source": [
    "## Exercises (continued):"
   ]
  },
  {
   "cell_type": "markdown",
   "id": "682fb7ea-6e68-4375-88cb-c90d854b26e4",
   "metadata": {},
   "source": [
    "### Exercise 4:\n",
    "For each of the samples, display the APF dimension 0 and 1.\n",
    "\n",
    "* Can you compare them visually? \n",
    "* What happens to the essential cycles?"
   ]
  },
  {
   "cell_type": "markdown",
   "id": "4e99b193-752d-43e2-a078-eb125fde06eb",
   "metadata": {},
   "source": [
    "### Exercise 5:\n",
    "For each of the samples, display the rank function on the grid from above. \n",
    "\n",
    "* Can you compare them visually?\n",
    "* What happens to the essential cycles?\n",
    "* What happens as you change the grid (both range and steps)?\n",
    "* Calculate the weighted inner product with weight 1 for every position?\n",
    "* What other weights could you use? How do these change the (dis)similarity score we obtain?"
   ]
  }
 ],
 "metadata": {
  "kernelspec": {
   "display_name": "Python 3 (ipykernel)",
   "language": "python",
   "name": "python3"
  },
  "language_info": {
   "codemirror_mode": {
    "name": "ipython",
    "version": 3
   },
   "file_extension": ".py",
   "mimetype": "text/x-python",
   "name": "python",
   "nbconvert_exporter": "python",
   "pygments_lexer": "ipython3",
   "version": "3.11.5"
  }
 },
 "nbformat": 4,
 "nbformat_minor": 5
}
